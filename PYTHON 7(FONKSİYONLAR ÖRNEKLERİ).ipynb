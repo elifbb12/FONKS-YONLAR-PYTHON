{
 "cells": [
  {
   "cell_type": "code",
   "execution_count": 4,
   "metadata": {},
   "outputs": [
    {
     "name": "stdout",
     "output_type": "stream",
     "text": [
      "hello\n",
      "hello\n",
      "hello\n",
      "hello\n",
      "hello\n",
      "hello\n",
      "hello\n",
      "hello\n",
      "hello\n",
      "hello\n"
     ]
    }
   ],
   "source": [
    "def times_ten():\n",
    "    for yazdir in range(10):\n",
    "        print(\"hello\")\n",
    "times_ten()"
   ]
  },
  {
   "cell_type": "code",
   "execution_count": 11,
   "metadata": {},
   "outputs": [
    {
     "name": "stdout",
     "output_type": "stream",
     "text": [
      "6\n"
     ]
    }
   ],
   "source": [
    "def fonksiyon(a,b,c):\n",
    "    d=a+b+c\n",
    "    print(d)\n",
    "fonksiyon(1,2,3)\n",
    "    \n",
    "  \n"
   ]
  },
  {
   "cell_type": "code",
   "execution_count": 6,
   "metadata": {},
   "outputs": [
    {
     "name": "stdout",
     "output_type": "stream",
     "text": [
      "28\n"
     ]
    }
   ],
   "source": [
    "import random\n",
    "rand=random.randint(1,100)\n",
    "print(rand)"
   ]
  },
  {
   "cell_type": "code",
   "execution_count": 23,
   "metadata": {},
   "outputs": [
    {
     "name": "stdout",
     "output_type": "stream",
     "text": [
      "sayı giriniz: 125\n",
      "62.5\n"
     ]
    }
   ],
   "source": [
    "def main():\n",
    "    sayi=float(input(\"sayı giriniz: \"))\n",
    "    \n",
    "    sonuc=yarim(sayi)\n",
    "    print(sonuc)\n",
    "def yarim(sayi):\n",
    "   \n",
    "    sonuc=sayi/2\n",
    "    return sonuc\n",
    "main()\n",
    "    \n",
    "    "
   ]
  },
  {
   "cell_type": "code",
   "execution_count": null,
   "metadata": {},
   "outputs": [],
   "source": [
    "#fonksiyonun içerisinde ki değeri çağırmamızı(dışarıya çıkarmayı) sağlayan komuttur. \n",
    "#Python'da fonksiyon içerisinde yazdığımız kodların sonucunu fonksiyonu bitirdiğimiz\n",
    "#yerde alırız, fakat fonksiyonu dışarı çağırıp sonuç istediğimizde (none) hatası ile \n",
    "#karşılaşırız. Bunun sebebi işlemlerde kullanılan bir değeri, kod parçacığı(bloğu)'nun \n",
    "#dışarısına çağırmış olmamızdır."
   ]
  },
  {
   "cell_type": "code",
   "execution_count": 44,
   "metadata": {},
   "outputs": [
    {
     "name": "stdout",
     "output_type": "stream",
     "text": [
      "bir sayı giriniz: 202\n",
      "2020.0\n",
      "bir sayı giriniz: 22\n",
      "220.0\n",
      "bir sayı giriniz: 1551\n",
      "15510.0\n",
      "bir sayı giriniz: 200\n",
      "2000.0\n",
      "bir sayı giriniz: 55\n",
      "550.0\n",
      "bir sayı giriniz: 51\n",
      "510.0\n",
      "bir sayı giriniz: 25\n",
      "250.0\n",
      "bir sayı giriniz: 5\n",
      "50.0\n",
      "bir sayı giriniz: 556\n",
      "5560.0\n",
      "bir sayı giriniz: 5\n",
      "50.0\n"
     ]
    }
   ],
   "source": [
    "def main():\n",
    "    sonuc=times_ten()    \n",
    "def times_ten():\n",
    "        for dondur in range(10):\n",
    "            sayi=float(input(\"bir sayı giriniz: \"))\n",
    "            sonuc=sayi*10\n",
    "            print(sonuc)\n",
    "        return sonuc   \n",
    "main()\n",
    "    "
   ]
  },
  {
   "cell_type": "code",
   "execution_count": 47,
   "metadata": {},
   "outputs": [
    {
     "name": "stdout",
     "output_type": "stream",
     "text": [
      "isminizi giriniz: elif\n",
      "İSMİNİZ:  elif\n"
     ]
    }
   ],
   "source": [
    "def main():\n",
    "    isim=isim_al()\n",
    "    print(\"İSMİNİZ: \",isim)\n",
    "def isim_al():\n",
    "    isim=input(\"isminizi giriniz: \")\n",
    "    return isim\n",
    "    \n",
    "main()"
   ]
  },
  {
   "cell_type": "code",
   "execution_count": 58,
   "metadata": {},
   "outputs": [
    {
     "name": "stdout",
     "output_type": "stream",
     "text": [
      "kilometre giriniz: 120\n",
      "\n",
      "120.0 \t 74.568\n"
     ]
    }
   ],
   "source": [
    "def kilometre_sor():\n",
    "    kilometre=float(input(\"kilometre giriniz: \"))\n",
    "    return kilometre\n",
    "def donustur(kilometre):\n",
    "    mil=kilometre*0.6214\n",
    "    return mil\n",
    "def main():\n",
    "    kullanici_giris_kilometre=kilometre_sor()\n",
    "    donustur_mil=donustur(kullanici_giris_kilometre)\n",
    "    print()\n",
    "    print( kullanici_giris_kilometre,'\\t',donustur_mil)\n",
    "main()\n",
    "    "
   ]
  },
  {
   "cell_type": "code",
   "execution_count": 74,
   "metadata": {},
   "outputs": [
    {
     "name": "stdout",
     "output_type": "stream",
     "text": [
      "miktarı giriniz120\n",
      "\n",
      "ilçe \t il\n",
      "126.0 \t 420.0\n"
     ]
    }
   ],
   "source": [
    "def miktar_sor():\n",
    "    miktar=float(input(\"miktarı giriniz\"))\n",
    "    return miktar\n",
    "def il_satis_vergisi(miktar):\n",
    "    il_vergisi=miktar*0.05\n",
    "    return il_vergisi\n",
    "def ilce_satis_vergisi(miktar):\n",
    "    ilce_vergisi=miktar*2.5\n",
    "    return ilce_vergisi\n",
    "def il_satis_vergisi_toplam(miktar,il_vergisi):\n",
    "    toplam1= miktar+il_vergisi\n",
    "    return toplam1\n",
    "def ilce_satis_vergisi_toplam(miktar,ilce_vergisi):\n",
    "    toplam2=miktar+ilce_vergisi\n",
    "    return toplam2\n",
    "def main():\n",
    "    miktar=miktar_sor()\n",
    "    isv=il_satis_vergisi(miktar)\n",
    "    icsv=ilce_satis_vergisi(miktar)\n",
    "    isvt=il_satis_vergisi_toplam(miktar,isv)\n",
    "    icsvt=ilce_satis_vergisi_toplam(miktar,icsv)\n",
    "    print()\n",
    "    print(\"ilçe \\t il\")\n",
    "    print(isvt,'\\t',icsvt)\n",
    "   \n",
    "main()\n",
    "\n",
    "    \n",
    "    "
   ]
  },
  {
   "cell_type": "code",
   "execution_count": null,
   "metadata": {},
   "outputs": [],
   "source": [
    "def masraf_kredi():\n",
    "    kredi_odemesi=float(input(\"kredi miktarını giriniz: \"))\n",
    "    return kredi_odemesi\n",
    "def masraf_sigorta():\n",
    "    sigorta=float(input(\"sigortayı giriniz: \"))\n",
    "    return sigorta\n",
    "def masraf_gaz():\n",
    "    gaz=float(input(\"kullanılan gaz maliyetini giriniz: \"))\n",
    "    return gaz\n",
    "def masraf_petrol():\n",
    "    petrol=float(input(\"kullanılan petrol maliyetini giriniz: \"))\n",
    "    return petrol\n",
    "def masraf_lastik():\n",
    "    lastik=float(input(\"lastik için harcanan maliyeti giriniz: \"))\n",
    "    return lastik\n",
    "def masraf_bakim():\n",
    "    bakim=float(input(\"bakım için harcanan maliyeti giriniz: \"))\n",
    "    return bakim\n",
    "def aylik_toplam(kredi_odemesi,sigorta,gaz,petrol,lastik,bakim):\n",
    "    aylikToplam=kredi_odemesi+sigorta+gaz+petrol+lastik+bakim\n",
    "    return aylikToplam\n",
    "def yillik_toplam(kredi_odemesi,sigorta,gaz,petrol,lastik,bakim):\n",
    "    yillikToplam= aylikToplam*12\n",
    "    return yillikToplam\n",
    "def main():\n",
    "    gun=1\n",
    "    for aylik in range(12):\n",
    "        kredi1=masraf_kredi()\n",
    "        sigorta2=masraf_sigorta()\n",
    "        gaz3=masraf_gaz()\n",
    "        petrol4=masraf_petrol()\n",
    "        lastik5=masraf_lastik()\n",
    "        bakim6=masraf_bakim()\n",
    "        toplam7=kredi1+sigorta2+gaz3+petrol4+lastik5+bakim6\n",
    "        print(\"AYLIK TOPLAM HARCAMA:\" ,toplam7)\n",
    "    yilliktoplam8=toplam7*12\n",
    "    print(\"YILLIK TOPLAM HARCAMA\",yilliktoplam8)\n",
    "main()"
   ]
  },
  {
   "cell_type": "code",
   "execution_count": 39,
   "metadata": {},
   "outputs": [
    {
     "name": "stdout",
     "output_type": "stream",
     "text": [
      "tükettiğiniz yağ gramını giriniz: 120\n",
      "tükettiğiniz karbonhidrat gramını giriniz: 120\n",
      "(1080.0, 480.0)\n"
     ]
    }
   ],
   "source": [
    "def yag_alinan_miktar():\n",
    "    yag_gram=float(input(\"tükettiğiniz yağ gramını giriniz: \"))\n",
    "    return yag_gram\n",
    "def karbonhidrat_alinan_miktar():\n",
    "    karbonhidrat_gram=float(input(\"tükettiğiniz karbonhidrat gramını giriniz: \"))\n",
    "    return karbonhidrat_gram\n",
    "def hesap(yag_gram,karbonhidrat_gram):\n",
    "    yag_kalori=yag_gram*9\n",
    "    karbonhidrat_kalori=karbonhidrat_gram*4\n",
    "    return yag_kalori,karbonhidrat_kalori\n",
    "def main():\n",
    "    yag_miktar=yag_alinan_miktar()\n",
    "    karbonhidrat_miktar=karbonhidrat_alinan_miktar()\n",
    "    toplam=hesap(yag_miktar,karbonhidrat_miktar)\n",
    "    print(toplam)\n",
    "   \n",
    "    \n",
    "main()"
   ]
  },
  {
   "cell_type": "code",
   "execution_count": 43,
   "metadata": {},
   "outputs": [
    {
     "name": "stdout",
     "output_type": "stream",
     "text": [
      "A sınıfından kaç tane bilet almak istiyorsunuz? 2\n",
      "B sınıfından kaç tane bilet almak istiyorsunuz? 3\n",
      "C sınıfından kaç tane bilet almak istiyorsunuz? 4\n",
      "A sınıfı bilet tutarı:  40 TL\n",
      "B sınıfı bilet tutarı:  45 TL\n",
      "C sınıfı bilet tutarı:  40 TL\n",
      "TOPLAM TUTAR 125 TL\n"
     ]
    }
   ],
   "source": [
    "def sinifA_bilet(biletA):\n",
    "    toplamA=biletA*20\n",
    "    return toplamA\n",
    "def sinifB_bilet(biletB):\n",
    "    toplamB=biletB*15\n",
    "    return toplamB\n",
    "def sinifC_bilet(biletC):\n",
    "    toplamC=biletC*10\n",
    "    return toplamC\n",
    "def toplam_fiyat(toplamA,toplamB,toplamC):\n",
    "    toplam_fiyat=toplamA+toplamB+toplamC\n",
    "    return toplam\n",
    "\n",
    "def main():\n",
    "    biletA=int(input(\"A sınıfından kaç tane bilet almak istiyorsunuz? \"))\n",
    "    biletB=int(input(\"B sınıfından kaç tane bilet almak istiyorsunuz? \"))\n",
    "    biletC=int(input(\"C sınıfından kaç tane bilet almak istiyorsunuz? \"))\n",
    "    bilet1=sinifA_bilet(biletA)\n",
    "    bilet2=sinifB_bilet(biletB)\n",
    "    bilet3=sinifC_bilet(biletC)\n",
    "    toplam=bilet1+bilet2+bilet3\n",
    "    print(\"A sınıfı bilet tutarı: \",bilet1,\"TL\")\n",
    "    print(\"B sınıfı bilet tutarı: \",bilet2,\"TL\")\n",
    "    print(\"C sınıfı bilet tutarı: \",bilet3,\"TL\")\n",
    "    print(\"TOPLAM TUTAR\",toplam, \"TL\")\n",
    "    \n",
    "main()\n",
    "    \n",
    "    "
   ]
  },
  {
   "cell_type": "code",
   "execution_count": null,
   "metadata": {},
   "outputs": [],
   "source": []
  }
 ],
 "metadata": {
  "kernelspec": {
   "display_name": "Python 3",
   "language": "python",
   "name": "python3"
  },
  "language_info": {
   "codemirror_mode": {
    "name": "ipython",
    "version": 3
   },
   "file_extension": ".py",
   "mimetype": "text/x-python",
   "name": "python",
   "nbconvert_exporter": "python",
   "pygments_lexer": "ipython3",
   "version": "3.8.3"
  }
 },
 "nbformat": 4,
 "nbformat_minor": 4
}
