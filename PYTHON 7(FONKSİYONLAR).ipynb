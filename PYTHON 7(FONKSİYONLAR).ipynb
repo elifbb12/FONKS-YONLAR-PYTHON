{
 "cells": [
  {
   "cell_type": "code",
   "execution_count": 5,
   "metadata": {},
   "outputs": [
    {
     "name": "stdout",
     "output_type": "stream",
     "text": [
      "elif\n",
      "büyükbatmaz\n"
     ]
    }
   ],
   "source": [
    "def mesaj():\n",
    "    print(\"elif\")\n",
    "    print(\"büyükbatmaz\")\n",
    "mesaj()\n"
   ]
  },
  {
   "cell_type": "code",
   "execution_count": 7,
   "metadata": {},
   "outputs": [
    {
     "name": "stdout",
     "output_type": "stream",
     "text": [
      "elif büyükbatmaz\n",
      "hoşgeldiniz\n"
     ]
    }
   ],
   "source": [
    "def main():\n",
    "    print(\"elif büyükbatmaz\")\n",
    "    mesaj()\n",
    "    \n",
    "def mesaj():\n",
    "    print(\"hoşgeldiniz\")\n",
    "main()"
   ]
  },
  {
   "cell_type": "code",
   "execution_count": 9,
   "metadata": {},
   "outputs": [
    {
     "name": "stdout",
     "output_type": "stream",
     "text": [
      "elif\n",
      "hoşgeldiniz\n"
     ]
    }
   ],
   "source": [
    "def fonksiyon():\n",
    "    print(\"hoşgeldiniz\")\n",
    "print(\"elif\")\n",
    "fonksiyon()"
   ]
  },
  {
   "cell_type": "code",
   "execution_count": 10,
   "metadata": {},
   "outputs": [
    {
     "ename": "IndentationError",
     "evalue": "unexpected indent (<ipython-input-10-ce1cd6c530eb>, line 4)",
     "output_type": "error",
     "traceback": [
      "\u001b[1;36m  File \u001b[1;32m\"<ipython-input-10-ce1cd6c530eb>\"\u001b[1;36m, line \u001b[1;32m4\u001b[0m\n\u001b[1;33m    print(\"büyükbatmaz\")\u001b[0m\n\u001b[1;37m    ^\u001b[0m\n\u001b[1;31mIndentationError\u001b[0m\u001b[1;31m:\u001b[0m unexpected indent\n"
     ]
    }
   ],
   "source": [
    "def fonksiyon():  #bu yazım şeklinde hata verir.\n",
    "    print(\"hoşgeldiniz\")\n",
    "print(\"elif\")\n",
    "    print(\"büyükbatmaz\")"
   ]
  },
  {
   "cell_type": "code",
   "execution_count": 20,
   "metadata": {},
   "outputs": [
    {
     "name": "stdout",
     "output_type": "stream",
     "text": [
      "bu program mekinenin nasıl çalışacağını anlatır.\n",
      "adım 1 e geçmek için enter\n",
      "ilk önce fişini takınız.\n",
      "\n",
      "adım 2 e geçmek için enter\n",
      "açma kapama düğmesine basınız.\n",
      "\n",
      "adım 3 e geçmek için enter\n",
      "ayarlamaları yapınız\n",
      "\n",
      "adım 4 e geçmek için enter\n",
      "çalıştırma düğmesine basınız\n",
      "\n"
     ]
    }
   ],
   "source": [
    "def esas():\n",
    "     baslangic()\n",
    "     input(\"adım 1 e geçmek için enter\")\n",
    "     adım1()\n",
    "     input(\"adım 2 e geçmek için enter\")\n",
    "     adım2()\n",
    "     input(\"adım 3 e geçmek için enter\")   \n",
    "     adım3()\n",
    "     input(\"adım 4 e geçmek için enter\")   \n",
    "     adım4()\n",
    "def baslangic():\n",
    "        print(\"bu program mekinenin nasıl çalışacağını anlatır.\")\n",
    "    \n",
    "def adım1():\n",
    "        print(\"ilk önce fişini takınız.\")\n",
    "        print()\n",
    "def adım2():\n",
    "        print(\"açma kapama düğmesine basınız.\")\n",
    "        print()\n",
    "def adım3():\n",
    "        print(\"ayarlamaları yapınız\")\n",
    "        print()\n",
    "def adım4():\n",
    "        print(\"çalıştırma düğmesine basınız\")\n",
    "        print()\n",
    "esas()\n",
    "    "
   ]
  },
  {
   "cell_type": "code",
   "execution_count": 23,
   "metadata": {},
   "outputs": [
    {
     "ename": "NameError",
     "evalue": "name 'isim' is not defined",
     "output_type": "error",
     "traceback": [
      "\u001b[1;31m---------------------------------------------------------------------------\u001b[0m",
      "\u001b[1;31mNameError\u001b[0m                                 Traceback (most recent call last)",
      "\u001b[1;32m<ipython-input-23-a43a53da5ca1>\u001b[0m in \u001b[0;36m<module>\u001b[1;34m\u001b[0m\n\u001b[0;32m      6\u001b[0m     \u001b[0misim\u001b[0m\u001b[1;33m=\u001b[0m\u001b[0minput\u001b[0m\u001b[1;33m(\u001b[0m\u001b[1;34m\"isminizi giriniz: \"\u001b[0m\u001b[1;33m)\u001b[0m\u001b[1;33m\u001b[0m\u001b[1;33m\u001b[0m\u001b[0m\n\u001b[0;32m      7\u001b[0m     \u001b[0msoyisim\u001b[0m\u001b[1;33m=\u001b[0m\u001b[0minput\u001b[0m\u001b[1;33m(\u001b[0m\u001b[1;34m\"soyadınızı giriniz: \"\u001b[0m\u001b[1;33m)\u001b[0m\u001b[1;33m\u001b[0m\u001b[1;33m\u001b[0m\u001b[0m\n\u001b[1;32m----> 8\u001b[1;33m \u001b[0mmain\u001b[0m\u001b[1;33m(\u001b[0m\u001b[1;33m)\u001b[0m\u001b[1;33m\u001b[0m\u001b[1;33m\u001b[0m\u001b[0m\n\u001b[0m",
      "\u001b[1;32m<ipython-input-23-a43a53da5ca1>\u001b[0m in \u001b[0;36mmain\u001b[1;34m()\u001b[0m\n\u001b[0;32m      1\u001b[0m \u001b[1;32mdef\u001b[0m \u001b[0mmain\u001b[0m\u001b[1;33m(\u001b[0m\u001b[1;33m)\u001b[0m\u001b[1;33m:\u001b[0m\u001b[1;33m\u001b[0m\u001b[1;33m\u001b[0m\u001b[0m\n\u001b[1;32m----> 2\u001b[1;33m     \u001b[0mprint\u001b[0m\u001b[1;33m(\u001b[0m\u001b[1;34m\"hoşgeldiniz\"\u001b[0m\u001b[1;33m,\u001b[0m \u001b[0misim\u001b[0m\u001b[1;33m,\u001b[0m\u001b[0msoyad\u001b[0m\u001b[1;33m)\u001b[0m\u001b[1;33m\u001b[0m\u001b[1;33m\u001b[0m\u001b[0m\n\u001b[0m\u001b[0;32m      3\u001b[0m     \u001b[0misimal\u001b[0m\u001b[1;33m(\u001b[0m\u001b[1;33m)\u001b[0m\u001b[1;33m\u001b[0m\u001b[1;33m\u001b[0m\u001b[0m\n\u001b[0;32m      4\u001b[0m \u001b[1;33m\u001b[0m\u001b[0m\n\u001b[0;32m      5\u001b[0m \u001b[1;32mdef\u001b[0m \u001b[0misimal\u001b[0m\u001b[1;33m(\u001b[0m\u001b[1;33m)\u001b[0m\u001b[1;33m:\u001b[0m\u001b[1;33m\u001b[0m\u001b[1;33m\u001b[0m\u001b[0m\n",
      "\u001b[1;31mNameError\u001b[0m: name 'isim' is not defined"
     ]
    }
   ],
   "source": [
    "def main():\n",
    "   \n",
    "    isimal()\n",
    "    print(\"hoşgeldiniz\", isim,soyad) #hata verir. \n",
    "def isimal():\n",
    "    isim=input(\"isminizi giriniz: \")\n",
    "    soyisim=input(\"soyadınızı giriniz: \")\n",
    "main()"
   ]
  },
  {
   "cell_type": "code",
   "execution_count": 12,
   "metadata": {},
   "outputs": [
    {
     "name": "stdout",
     "output_type": "stream",
     "text": [
      "bardak ölçüsü çevirme programı\n",
      "\n",
      "bardak sayısını giriniz: 32\n",
      "bardağın ölçüsü:  160\n"
     ]
    }
   ],
   "source": [
    "def main():\n",
    "    cevirme()\n",
    "    sayi=int(input(\"bardak sayısını giriniz: \"))\n",
    "    bardak(sayi)\n",
    "def cevirme():\n",
    "    print(\"bardak ölçüsü çevirme programı\")\n",
    "    print()\n",
    "def bardak(bar):\n",
    "    olcu=bar*5\n",
    "    print(\"bardağın ölçüsü: \",olcu)\n",
    "    \n",
    "main()"
   ]
  },
  {
   "cell_type": "code",
   "execution_count": 15,
   "metadata": {},
   "outputs": [
    {
     "name": "stdout",
     "output_type": "stream",
     "text": [
      "ilk sayıyı giriniz: 12\n",
      "ikinci sayıyı giriniz: 14\n",
      "girdiğiniz iki sayının toplamı:  26.0\n"
     ]
    }
   ],
   "source": [
    "def main():\n",
    "    sayi1=float(input(\"ilk sayıyı giriniz: \"))\n",
    "    sayi2=float(input(\"ikinci sayıyı giriniz: \"))\n",
    "    topla(sayi1,sayi2)\n",
    "    \n",
    "def topla(sayi1,sayi2):\n",
    "    toplam=sayi1+sayi2\n",
    "    print( \"girdiğiniz iki sayının toplamı: \" ,toplam)\n",
    "    \n",
    "main()"
   ]
  },
  {
   "cell_type": "code",
   "execution_count": 19,
   "metadata": {},
   "outputs": [
    {
     "name": "stdout",
     "output_type": "stream",
     "text": [
      "gir12\n",
      "12\n"
     ]
    }
   ],
   "source": [
    "sayi=23\n",
    "def main():\n",
    "    global sayi\n",
    "    sayi=int(input(\"gir\"))\n",
    "    goster()\n",
    "def goster():\n",
    "    print(sayi)\n",
    "    \n",
    "\n",
    "main()"
   ]
  },
  {
   "cell_type": "code",
   "execution_count": 4,
   "metadata": {},
   "outputs": [
    {
     "name": "stdout",
     "output_type": "stream",
     "text": [
      "yıllık brüt maaşınızı giriniz: 120\n",
      "ikramiye miktarını giriniz: 120\n",
      "240.0\n"
     ]
    }
   ],
   "source": [
    "def main():\n",
    "    maas=float(input(\"yıllık brüt maaşınızı giriniz: \"))\n",
    "    katki=float(input(\"ikramiye miktarını giriniz: \"))\n",
    "    maas_katki(maas,katki)\n",
    "def maas_katki(maas,katki):\n",
    "    toplam=maas+katki\n",
    "    print(\"ikramiyeli maaşınız: \" ,toplam)\n",
    "main()    "
   ]
  },
  {
   "cell_type": "code",
   "execution_count": 6,
   "metadata": {},
   "outputs": [
    {
     "name": "stdout",
     "output_type": "stream",
     "text": [
      "25\n"
     ]
    }
   ],
   "source": [
    "#FONKSİYON KÜTÜPHANELERİ#\n",
    "#MODÜLLER(İçeri aktarmayı sağlar.)\n",
    "#İMPORT\n",
    "import random\n",
    "def main():\n",
    "    sayi=random.randint(1,30)\n",
    "    print(sayi)\n",
    "main()"
   ]
  },
  {
   "cell_type": "code",
   "execution_count": 7,
   "metadata": {},
   "outputs": [
    {
     "name": "stdout",
     "output_type": "stream",
     "text": [
      "nt\n"
     ]
    }
   ],
   "source": [
    "import os #(Hazır komut)\n",
    "print(os.name)\n",
    "#nt =windows"
   ]
  },
  {
   "cell_type": "code",
   "execution_count": 9,
   "metadata": {},
   "outputs": [
    {
     "name": "stdout",
     "output_type": "stream",
     "text": [
      "<class 'OSError'>\n"
     ]
    }
   ],
   "source": [
    "import os\n",
    "print(os.error)"
   ]
  },
  {
   "cell_type": "code",
   "execution_count": 11,
   "metadata": {},
   "outputs": [
    {
     "name": "stdout",
     "output_type": "stream",
     "text": [
      "3.8.3 (default, Jul  2 2020, 17:30:36) [MSC v.1916 64 bit (AMD64)]\n"
     ]
    }
   ],
   "source": [
    "import sys\n",
    "print(sys.version)"
   ]
  },
  {
   "cell_type": "code",
   "execution_count": 12,
   "metadata": {},
   "outputs": [
    {
     "data": {
      "text/plain": [
       "0"
      ]
     },
     "execution_count": 12,
     "metadata": {},
     "output_type": "execute_result"
    }
   ],
   "source": [
    "import subprocess\n",
    "subprocess.call(\"notepad++.exe\")"
   ]
  },
  {
   "cell_type": "code",
   "execution_count": null,
   "metadata": {},
   "outputs": [],
   "source": [
    "import subprocess as sb #kısaltma yap."
   ]
  },
  {
   "cell_type": "code",
   "execution_count": 13,
   "metadata": {},
   "outputs": [],
   "source": [
    "from webbrowser import open"
   ]
  },
  {
   "cell_type": "code",
   "execution_count": 22,
   "metadata": {},
   "outputs": [
    {
     "name": "stdout",
     "output_type": "stream",
     "text": [
      "42\n",
      "79\n",
      "82\n",
      "49\n",
      "65\n",
      "52\n",
      "75\n",
      "33\n",
      "15\n",
      "2\n"
     ]
    }
   ],
   "source": [
    "import random\n",
    "def main():\n",
    "    for sayac in range(10):\n",
    "        sayi=random.randint(1,100) #kalıp halindedir.\n",
    "        print(sayi)\n",
    "main()"
   ]
  },
  {
   "cell_type": "code",
   "execution_count": 37,
   "metadata": {},
   "outputs": [
    {
     "name": "stdout",
     "output_type": "stream",
     "text": [
      "10\n"
     ]
    }
   ],
   "source": [
    "print(random.randint(1,10))"
   ]
  },
  {
   "cell_type": "code",
   "execution_count": 60,
   "metadata": {},
   "outputs": [
    {
     "name": "stdout",
     "output_type": "stream",
     "text": [
      "86\n",
      "61\n",
      "60\n",
      "52\n",
      "23\n",
      "91\n",
      "10\n",
      "25\n",
      "94\n",
      "71\n"
     ]
    }
   ],
   "source": [
    "import random\n",
    "def main():\n",
    "    for sayac in range(10):\n",
    "        print(random.randint(1,100)) #kalıp halindedir.\n",
    "       \n",
    "main()"
   ]
  },
  {
   "cell_type": "code",
   "execution_count": 6,
   "metadata": {},
   "outputs": [
    {
     "name": "stdout",
     "output_type": "stream",
     "text": [
      "atılan zarın değerleri\n",
      "7 ~~ 7\n"
     ]
    },
    {
     "ename": "KeyboardInterrupt",
     "evalue": "Interrupted by user",
     "output_type": "error",
     "traceback": [
      "\u001b[1;31m---------------------------------------------------------------------------\u001b[0m",
      "\u001b[1;31mKeyboardInterrupt\u001b[0m                         Traceback (most recent call last)",
      "\u001b[1;32m<ipython-input-6-a6cebbcdd7fb>\u001b[0m in \u001b[0;36m<module>\u001b[1;34m\u001b[0m\n\u001b[0;32m      9\u001b[0m         \u001b[0mprint\u001b[0m\u001b[1;33m(\u001b[0m\u001b[0mrandom1\u001b[0m\u001b[1;33m,\u001b[0m\u001b[1;34m\"~~\"\u001b[0m\u001b[1;33m,\u001b[0m\u001b[0mrandom2\u001b[0m\u001b[1;33m)\u001b[0m\u001b[1;33m\u001b[0m\u001b[1;33m\u001b[0m\u001b[0m\n\u001b[0;32m     10\u001b[0m         \u001b[0msoru\u001b[0m\u001b[1;33m=\u001b[0m\u001b[0minput\u001b[0m\u001b[1;33m(\u001b[0m\u001b[1;34m\"devam etmek istiyor musunuz?e\"\u001b[0m\u001b[1;33m)\u001b[0m\u001b[1;33m\u001b[0m\u001b[1;33m\u001b[0m\u001b[0m\n\u001b[1;32m---> 11\u001b[1;33m \u001b[0mmain\u001b[0m\u001b[1;33m(\u001b[0m\u001b[1;33m)\u001b[0m\u001b[1;33m\u001b[0m\u001b[1;33m\u001b[0m\u001b[0m\n\u001b[0m\u001b[0;32m     12\u001b[0m \u001b[1;33m\u001b[0m\u001b[0m\n\u001b[0;32m     13\u001b[0m \u001b[1;33m\u001b[0m\u001b[0m\n",
      "\u001b[1;32m<ipython-input-6-a6cebbcdd7fb>\u001b[0m in \u001b[0;36mmain\u001b[1;34m()\u001b[0m\n\u001b[0;32m      8\u001b[0m         \u001b[0mprint\u001b[0m\u001b[1;33m(\u001b[0m\u001b[1;34m\"atılan zarın değerleri\"\u001b[0m\u001b[1;33m)\u001b[0m\u001b[1;33m\u001b[0m\u001b[1;33m\u001b[0m\u001b[0m\n\u001b[0;32m      9\u001b[0m         \u001b[0mprint\u001b[0m\u001b[1;33m(\u001b[0m\u001b[0mrandom1\u001b[0m\u001b[1;33m,\u001b[0m\u001b[1;34m\"~~\"\u001b[0m\u001b[1;33m,\u001b[0m\u001b[0mrandom2\u001b[0m\u001b[1;33m)\u001b[0m\u001b[1;33m\u001b[0m\u001b[1;33m\u001b[0m\u001b[0m\n\u001b[1;32m---> 10\u001b[1;33m         \u001b[0msoru\u001b[0m\u001b[1;33m=\u001b[0m\u001b[0minput\u001b[0m\u001b[1;33m(\u001b[0m\u001b[1;34m\"devam etmek istiyor musunuz?e\"\u001b[0m\u001b[1;33m)\u001b[0m\u001b[1;33m\u001b[0m\u001b[1;33m\u001b[0m\u001b[0m\n\u001b[0m\u001b[0;32m     11\u001b[0m \u001b[0mmain\u001b[0m\u001b[1;33m(\u001b[0m\u001b[1;33m)\u001b[0m\u001b[1;33m\u001b[0m\u001b[1;33m\u001b[0m\u001b[0m\n\u001b[0;32m     12\u001b[0m \u001b[1;33m\u001b[0m\u001b[0m\n",
      "\u001b[1;32m~\\anaconda3\\lib\\site-packages\\ipykernel\\kernelbase.py\u001b[0m in \u001b[0;36mraw_input\u001b[1;34m(self, prompt)\u001b[0m\n\u001b[0;32m    858\u001b[0m                 \u001b[1;34m\"raw_input was called, but this frontend does not support input requests.\"\u001b[0m\u001b[1;33m\u001b[0m\u001b[1;33m\u001b[0m\u001b[0m\n\u001b[0;32m    859\u001b[0m             )\n\u001b[1;32m--> 860\u001b[1;33m         return self._input_request(str(prompt),\n\u001b[0m\u001b[0;32m    861\u001b[0m             \u001b[0mself\u001b[0m\u001b[1;33m.\u001b[0m\u001b[0m_parent_ident\u001b[0m\u001b[1;33m,\u001b[0m\u001b[1;33m\u001b[0m\u001b[1;33m\u001b[0m\u001b[0m\n\u001b[0;32m    862\u001b[0m             \u001b[0mself\u001b[0m\u001b[1;33m.\u001b[0m\u001b[0m_parent_header\u001b[0m\u001b[1;33m,\u001b[0m\u001b[1;33m\u001b[0m\u001b[1;33m\u001b[0m\u001b[0m\n",
      "\u001b[1;32m~\\anaconda3\\lib\\site-packages\\ipykernel\\kernelbase.py\u001b[0m in \u001b[0;36m_input_request\u001b[1;34m(self, prompt, ident, parent, password)\u001b[0m\n\u001b[0;32m    902\u001b[0m             \u001b[1;32mexcept\u001b[0m \u001b[0mKeyboardInterrupt\u001b[0m\u001b[1;33m:\u001b[0m\u001b[1;33m\u001b[0m\u001b[1;33m\u001b[0m\u001b[0m\n\u001b[0;32m    903\u001b[0m                 \u001b[1;31m# re-raise KeyboardInterrupt, to truncate traceback\u001b[0m\u001b[1;33m\u001b[0m\u001b[1;33m\u001b[0m\u001b[1;33m\u001b[0m\u001b[0m\n\u001b[1;32m--> 904\u001b[1;33m                 \u001b[1;32mraise\u001b[0m \u001b[0mKeyboardInterrupt\u001b[0m\u001b[1;33m(\u001b[0m\u001b[1;34m\"Interrupted by user\"\u001b[0m\u001b[1;33m)\u001b[0m \u001b[1;32mfrom\u001b[0m \u001b[1;32mNone\u001b[0m\u001b[1;33m\u001b[0m\u001b[1;33m\u001b[0m\u001b[0m\n\u001b[0m\u001b[0;32m    905\u001b[0m             \u001b[1;32mexcept\u001b[0m \u001b[0mException\u001b[0m \u001b[1;32mas\u001b[0m \u001b[0me\u001b[0m\u001b[1;33m:\u001b[0m\u001b[1;33m\u001b[0m\u001b[1;33m\u001b[0m\u001b[0m\n\u001b[0;32m    906\u001b[0m                 \u001b[0mself\u001b[0m\u001b[1;33m.\u001b[0m\u001b[0mlog\u001b[0m\u001b[1;33m.\u001b[0m\u001b[0mwarning\u001b[0m\u001b[1;33m(\u001b[0m\u001b[1;34m\"Invalid Message:\"\u001b[0m\u001b[1;33m,\u001b[0m \u001b[0mexc_info\u001b[0m\u001b[1;33m=\u001b[0m\u001b[1;32mTrue\u001b[0m\u001b[1;33m)\u001b[0m\u001b[1;33m\u001b[0m\u001b[1;33m\u001b[0m\u001b[0m\n",
      "\u001b[1;31mKeyboardInterrupt\u001b[0m: Interrupted by user"
     ]
    }
   ],
   "source": [
    "import random\n",
    "devam='e'\n",
    "def main():\n",
    "    while devam=='e'or devam=='e':\n",
    "        \n",
    "        random1=random.randint(1,7)\n",
    "        random2=random.randint(1,7)\n",
    "        print(\"atılan zarın değerleri\")\n",
    "        print(random1,\"~~\",random2)\n",
    "        soru=input(\"devam etmek istiyor musunuz?e\")\n",
    "main()\n",
    "\n",
    "    \n",
    "    \n",
    "    "
   ]
  },
  {
   "cell_type": "code",
   "execution_count": 7,
   "metadata": {},
   "outputs": [
    {
     "name": "stdout",
     "output_type": "stream",
     "text": [
      "40\n"
     ]
    }
   ],
   "source": [
    "x=random.randint(1,20)*2\n",
    "print(x)"
   ]
  },
  {
   "cell_type": "code",
   "execution_count": 52,
   "metadata": {},
   "outputs": [
    {
     "name": "stdout",
     "output_type": "stream",
     "text": [
      "5\n"
     ]
    }
   ],
   "source": [
    "sayi=random.randrange(10)#10 u yazdırmaz\n",
    "print(sayi)"
   ]
  },
  {
   "cell_type": "code",
   "execution_count": 118,
   "metadata": {},
   "outputs": [
    {
     "name": "stdout",
     "output_type": "stream",
     "text": [
      "13\n"
     ]
    }
   ],
   "source": [
    "sayi=random.randrange(10,50)#\n",
    "print(sayi)"
   ]
  },
  {
   "cell_type": "code",
   "execution_count": 128,
   "metadata": {},
   "outputs": [
    {
     "name": "stdout",
     "output_type": "stream",
     "text": [
      "18\n"
     ]
    }
   ],
   "source": [
    "sayi=random.randrange(10,50,2)#\n",
    "print(sayi)"
   ]
  },
  {
   "cell_type": "code",
   "execution_count": 171,
   "metadata": {},
   "outputs": [
    {
     "name": "stdout",
     "output_type": "stream",
     "text": [
      "0.55\n"
     ]
    }
   ],
   "source": [
    "sayi=random.random()#0.0-1.0 arası\n",
    "print(format(sayi, '.2f'))"
   ]
  },
  {
   "cell_type": "code",
   "execution_count": 194,
   "metadata": {},
   "outputs": [
    {
     "name": "stdout",
     "output_type": "stream",
     "text": [
      "9.42\n"
     ]
    }
   ],
   "source": [
    "sayi=random.uniform(1.0,10.0)\n",
    "print(format(sayi, '.2f'))"
   ]
  },
  {
   "cell_type": "code",
   "execution_count": 201,
   "metadata": {},
   "outputs": [
    {
     "name": "stdout",
     "output_type": "stream",
     "text": [
      "None\n"
     ]
    }
   ],
   "source": [
    "import random\n",
    "sayi=random.seed(10)\n",
    "print(sayi)"
   ]
  },
  {
   "cell_type": "code",
   "execution_count": null,
   "metadata": {},
   "outputs": [],
   "source": [
    "import random\n",
    "sayi=random.seed(10)\n",
    "print(sayi)"
   ]
  },
  {
   "cell_type": "code",
   "execution_count": 287,
   "metadata": {},
   "outputs": [
    {
     "name": "stdout",
     "output_type": "stream",
     "text": [
      "0.15\n",
      "0.57\n",
      "0.15\n",
      "0.57\n"
     ]
    }
   ],
   "source": [
    "import random #her seferinde üretilen random sayıyı sabit yapmak\n",
    " \n",
    "random.seed(100)\n",
    "print(format(random.random(), '.2f'))\n",
    " \n",
    "random.seed(10)\n",
    "print(format(random.random(), '.2f'))\n",
    "\n",
    "random.seed(100)\n",
    "print(format(random.random(), '.2f'))\n",
    "\n",
    "random.seed(10)\n",
    "print(format(random.random(), '.2f'))"
   ]
  },
  {
   "cell_type": "code",
   "execution_count": null,
   "metadata": {},
   "outputs": [],
   "source": [
    "#Sözde rasgele sayı üretecini başlatmak için random.seed() kullanın.\n",
    "#Bir sözde rasgele sayı üreteci tarafından verilen verileri yeniden üretmek için tohum ayarlayın\n",
    "#Her seferinde random.seed() kullanarak listeden aynı öğeleri rastgele seçin\n",
    "#Diğer rastgele modül işlevleriyle birlikte bir random.seed() işlevi kullanın."
   ]
  },
  {
   "cell_type": "code",
   "execution_count": 290,
   "metadata": {},
   "outputs": [
    {
     "name": "stdout",
     "output_type": "stream",
     "text": [
      "392\n",
      "392\n"
     ]
    }
   ],
   "source": [
    "\n",
    "import random\n",
    " \n",
    "random.seed(350)\n",
    "print(random.randrange(300, 500))\n",
    " \n",
    "random.seed(350)\n",
    "print(random.randrange(300, 500))"
   ]
  },
  {
   "cell_type": "code",
   "execution_count": 319,
   "metadata": {},
   "outputs": [
    {
     "name": "stdout",
     "output_type": "stream",
     "text": [
      "Rastgele sayı 38\n",
      "Rastgele sayı 40\n"
     ]
    }
   ],
   "source": [
    "import random\n",
    "from datetime import datetime\n",
    " \n",
    "random.seed(datetime.now())\n",
    "print(\"Rastgele sayı\", random.randint(25, 50))\n",
    "print(\"Rastgele sayı\", random.randint(25, 50))\n",
    "\n",
    "\n",
    "#Herhangi bir nedenle, işletim sistemine özgü bir rastgelelik kaynağı dışında özel\n",
    "#bir çekirdek ayarlamak istiyorsanız, yaygın bir uygulama, milisaniye cinsinden sistem saatini\n",
    "#bir çekirdek değeri olarak kullanmaktır."
   ]
  },
  {
   "cell_type": "code",
   "execution_count": null,
   "metadata": {},
   "outputs": [],
   "source": [
    "#return ifadesinden sonra fonksiyonumuz tamamıyla sona erer.\n",
    "#Yani, return ifadesinden sonra yapılan herhangi bir işlem çalıştırılmaz."
   ]
  },
  {
   "cell_type": "code",
   "execution_count": 320,
   "metadata": {},
   "outputs": [],
   "source": [
    "def toplama(a,b,c):\n",
    "    return a + b + c\n",
    "    print(\"Toplama fonksiyonu\") # Çalıştırılmadı."
   ]
  },
  {
   "cell_type": "code",
   "execution_count": 321,
   "metadata": {},
   "outputs": [
    {
     "name": "stdout",
     "output_type": "stream",
     "text": [
      "Toplama fonksiyonu\n"
     ]
    },
    {
     "data": {
      "text/plain": [
       "6"
      ]
     },
     "execution_count": 321,
     "metadata": {},
     "output_type": "execute_result"
    }
   ],
   "source": [
    "def toplama(a,b,c):\n",
    "    print(\"Toplama fonksiyonu\") # Çalıştırıldı.\n",
    "    return a + b + c\n",
    " \n",
    "toplama(1,2,3)"
   ]
  },
  {
   "cell_type": "code",
   "execution_count": 327,
   "metadata": {},
   "outputs": [
    {
     "data": {
      "text/plain": [
       "3"
      ]
     },
     "execution_count": 327,
     "metadata": {},
     "output_type": "execute_result"
    }
   ],
   "source": [
    "def toplam(sayi1,sayi2):\n",
    "    sonuc=sayi1+sayi2\n",
    "    return sonuc\n",
    "toplam(1,2)"
   ]
  },
  {
   "cell_type": "code",
   "execution_count": 332,
   "metadata": {},
   "outputs": [
    {
     "name": "stdout",
     "output_type": "stream",
     "text": [
      "birinci sayıyı giriniz: 12\n",
      "ikinci sayıyı sayıyı giriniz: 14\n",
      "toplam:  26\n"
     ]
    }
   ],
   "source": [
    "def main():\n",
    "    bir=int(input(\"birinci sayıyı giriniz: \"))\n",
    "    iki=int(input(\"ikinci sayıyı sayıyı giriniz: \"))\n",
    "    top=toplam(bir,iki)\n",
    "    print(\"toplam: \",top)\n",
    "def toplam(sayi1,sayi2):\n",
    "    sonuc=sayi1+sayi2\n",
    "    return sonuc\n",
    "    print(\"hello\") #returndan sonraki değerleri yazdırmaz program sonlanır.\n",
    "main()\n",
    "    \n",
    "    "
   ]
  },
  {
   "cell_type": "code",
   "execution_count": 14,
   "metadata": {},
   "outputs": [
    {
     "name": "stdout",
     "output_type": "stream",
     "text": [
      "Aylık satışınızı giriniz: 16200\n",
      "ödeme miktarını giriniz: 30\n",
      "2238.0\n"
     ]
    }
   ],
   "source": [
    "def main():\n",
    "    satis_sat=satis()\n",
    "    odeme_miktar=odeme()\n",
    "    komisyon_orani=komisyon(satis_sat)\n",
    "    sonuc=satis_sat*komisyon_orani-odeme_miktar\n",
    "    print(sonuc)\n",
    "    if sonuc<0:\n",
    "        print(\"pozitif bir sayı giriniz...\")\n",
    "def satis():\n",
    "    satis_sat=float(input(\"Aylık satışınızı giriniz: \"))\n",
    "    return satis_sat\n",
    "def odeme():\n",
    "    odeme_miktar=float(input(\"ödeme miktarını giriniz: \"))\n",
    "    return odeme_miktar\n",
    "def komisyon(satis_sat):\n",
    "    oran=0\n",
    "    if satis_sat<10000:\n",
    "        oran=0.10\n",
    "    elif satis_sat>=10000 and satis_sat<14999.99:\n",
    "        oran=0.12\n",
    "    elif satis_sat>=15000 and satis_sat<17999.99:\n",
    "        oran=0.14\n",
    "    elif satis_sat>=1800 and satis_sat<21999.99:\n",
    "        oran=0.16\n",
    "    else:\n",
    "        oran=0.18\n",
    "    return oran\n",
    "main()\n",
    "    \n",
    "    \n",
    "    "
   ]
  },
  {
   "cell_type": "code",
   "execution_count": null,
   "metadata": {},
   "outputs": [],
   "source": [
    "def isim_al():\n",
    "    isim=input(\"ismini gir\")\n",
    "    return isim"
   ]
  },
  {
   "cell_type": "code",
   "execution_count": 18,
   "metadata": {},
   "outputs": [
    {
     "name": "stdout",
     "output_type": "stream",
     "text": [
      "ismini girelif\n",
      "soyadını girbb\n"
     ]
    }
   ],
   "source": [
    "def main():\n",
    "    isim,soyad=isim_soyisim_al()\n",
    "def isim_soyisim_al():\n",
    "    isim=input(\"ismini gir\")\n",
    "    soyad=input(\"soyadını gir\")\n",
    "    return isim,soyad\n",
    "main()"
   ]
  },
  {
   "cell_type": "code",
   "execution_count": 23,
   "metadata": {},
   "outputs": [
    {
     "name": "stdout",
     "output_type": "stream",
     "text": [
      "2.0\n"
     ]
    }
   ],
   "source": [
    "import math \n",
    "sonuc=math.log10(100) #özel komutlar var unutma!\n",
    "print(sonuc)"
   ]
  },
  {
   "cell_type": "code",
   "execution_count": 25,
   "metadata": {},
   "outputs": [
    {
     "name": "stdout",
     "output_type": "stream",
     "text": [
      "logaritması alınacak sayıyı giriniz: 100\n",
      "sayının logaritması:  2.0\n"
     ]
    }
   ],
   "source": [
    "import math\n",
    "def main():\n",
    "    sayi=float(input(\"logaritması alınacak sayıyı giriniz: \"))\n",
    "    logaritma=math.log10(sayi)\n",
    "    print(\"sayının logaritması: \", logaritma)\n",
    "main()"
   ]
  }
 ],
 "metadata": {
  "kernelspec": {
   "display_name": "Python 3",
   "language": "python",
   "name": "python3"
  },
  "language_info": {
   "codemirror_mode": {
    "name": "ipython",
    "version": 3
   },
   "file_extension": ".py",
   "mimetype": "text/x-python",
   "name": "python",
   "nbconvert_exporter": "python",
   "pygments_lexer": "ipython3",
   "version": "3.8.3"
  }
 },
 "nbformat": 4,
 "nbformat_minor": 4
}
